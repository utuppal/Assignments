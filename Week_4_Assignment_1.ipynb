{
 "cells": [
  {
   "cell_type": "markdown",
   "id": "1968b1b2-574f-4b93-8cc4-9680cc21a57e",
   "metadata": {},
   "source": [
    "### Q1. Explain Class and Object with respect to Object-Oriented Programming. Give a suitable example."
   ]
  },
  {
   "cell_type": "code",
   "execution_count": null,
   "id": "5f2297ff-70e0-4f1e-8e26-da4d670a4b05",
   "metadata": {},
   "outputs": [],
   "source": [
    "#Class- A class is user-defined layout or blueprint of an object that specifies what a specific kind of object will look like.\n",
    "#Object- Object is single instance of a class, which contains data and methods working on that data.\n",
    "class Mobile_Phone:\n",
    "    def Samsung_galaxy(self,name,RAM):\n",
    "        self.name=name\n",
    "        self.RAM = RAM\n",
    "objMobile_Phone=Mobile_Phone()"
   ]
  },
  {
   "cell_type": "markdown",
   "id": "926ea21a-38a9-4fd2-95e5-bbe9c803afbc",
   "metadata": {},
   "source": [
    "### Q2. Name the four pillars of OOPs."
   ]
  },
  {
   "cell_type": "code",
   "execution_count": null,
   "id": "45d099a2-6958-4f07-a781-76d0cabe3108",
   "metadata": {},
   "outputs": [],
   "source": [
    "\"\"\"There are four pillars:\n",
    "1. Encapsulation\n",
    "2. Inheritance\n",
    "3. Polymorphism\n",
    "4. Abstraction\"\"\""
   ]
  },
  {
   "cell_type": "markdown",
   "id": "427a13f3-ff7b-4862-892e-6b150ec3b84e",
   "metadata": {},
   "source": [
    "### Q3. Explain why the __init__() function is used. Give a suitable example."
   ]
  },
  {
   "cell_type": "code",
   "execution_count": null,
   "id": "2ae7bd3d-5598-4dc5-a3bb-b73b8fd80aa7",
   "metadata": {},
   "outputs": [],
   "source": [
    "#init() is as a constructor that takes data from the object and passes it to the class."
   ]
  },
  {
   "cell_type": "markdown",
   "id": "d956a1f1-bf7f-4af9-bbfa-9969ec8d489a",
   "metadata": {},
   "source": [
    "### Q4. Why self is used in OOPs?"
   ]
  },
  {
   "cell_type": "code",
   "execution_count": null,
   "id": "9abfdb80-f3ef-4399-9efe-6f3827bee92a",
   "metadata": {},
   "outputs": [],
   "source": [
    "#The self parameter is a reference to the current instance of the class, and is used to access variables that belongs to the class.\n",
    "#It works as a pointer."
   ]
  },
  {
   "cell_type": "markdown",
   "id": "1f0bab49-8fff-425c-bc9f-968eaf84e89f",
   "metadata": {},
   "source": [
    "### Q5. What is inheritance? Give an example for each type of inheritance."
   ]
  },
  {
   "cell_type": "code",
   "execution_count": null,
   "id": "6a8cc68e-e44b-4fac-9490-b84ee97b28d2",
   "metadata": {},
   "outputs": [],
   "source": [
    "#A mechanism in which one class acquires the property of another class."
   ]
  }
 ],
 "metadata": {
  "kernelspec": {
   "display_name": "Python 3 (ipykernel)",
   "language": "python",
   "name": "python3"
  },
  "language_info": {
   "codemirror_mode": {
    "name": "ipython",
    "version": 3
   },
   "file_extension": ".py",
   "mimetype": "text/x-python",
   "name": "python",
   "nbconvert_exporter": "python",
   "pygments_lexer": "ipython3",
   "version": "3.10.8"
  }
 },
 "nbformat": 4,
 "nbformat_minor": 5
}

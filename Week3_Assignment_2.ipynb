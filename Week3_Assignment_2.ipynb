{
 "cells": [
  {
   "cell_type": "markdown",
   "id": "03ad9d94-782c-41a6-aa91-094ce145e376",
   "metadata": {},
   "source": [
    "### Q1. Create a python program to sort the given list of tuples based on integer value using a lambda function. [('Sachin Tendulkar', 34357), ('Ricky Ponting', 27483), ('Jack Kallis', 25534), ('Virat Kohli', 24936)]  "
   ]
  },
  {
   "cell_type": "code",
   "execution_count": null,
   "id": "4aacc068-0693-4dbd-88df-39088f32bf86",
   "metadata": {},
   "outputs": [],
   "source": [
    "data=[('Sachin Tendulkar', 34357), ('Ricky Ponting', 27483), ('Jack Kallis', 25534), ('Virat Kohli', 24936)]\n",
    "sorted_=sorted(data,key=lambda x:x[1])\n",
    "print (sorted_)"
   ]
  },
  {
   "cell_type": "markdown",
   "id": "6c4decb6-f6f2-412a-909a-894f9db31fe0",
   "metadata": {},
   "source": [
    "### Q2. Write a Python Program to find the squares of all the numbers in the given list of integers using lambda and map functions. [1, 2, 3, 4, 5, 6, 7, 8, 9, 10]"
   ]
  },
  {
   "cell_type": "code",
   "execution_count": null,
   "id": "dbc2766f-2485-4839-9f85-5b1ad201d319",
   "metadata": {},
   "outputs": [],
   "source": [
    "l1=[1, 2, 3, 4, 5, 6, 7, 8, 9, 10]\n",
    "squares=list(map(lambda x:x**2,l1))\n",
    "print(squares)"
   ]
  },
  {
   "cell_type": "markdown",
   "id": "5f5c30f8-00f1-4e07-88a7-8e4fdb98a28e",
   "metadata": {},
   "source": [
    "### Q3. Write a python program to convert the given list of integers into a tuple of strings. Use map and lambda functions\n",
    "### Given String: [1, 2, 3, 4, 5, 6, 7, 8, 9, 10]\n",
    "### Expected output: ('1', '2', '3', '4', '5', '6', '7', '8', '9', '10')"
   ]
  },
  {
   "cell_type": "code",
   "execution_count": null,
   "id": "106d8021-5bcb-43ab-ac48-622156387005",
   "metadata": {},
   "outputs": [],
   "source": [
    "l2=[1, 2, 3, 4, 5, 6, 7, 8, 9, 10]\n",
    "tuple(map(lambda x:str(x),l2))"
   ]
  },
  {
   "cell_type": "markdown",
   "id": "a9cc13cd-5f3d-4e40-9841-5de00e42e226",
   "metadata": {},
   "source": [
    "### Q4. Write a python program using reduce function to compute the product of a list containing numbers from 1 to 25."
   ]
  },
  {
   "cell_type": "code",
   "execution_count": null,
   "id": "7661639d-fb05-49cc-8393-85a613021086",
   "metadata": {},
   "outputs": [],
   "source": [
    "l3=list(range(1,26))\n",
    "reduce(lambda x,y:x*y,l3)"
   ]
  },
  {
   "cell_type": "markdown",
   "id": "edeadfb2-7d83-4239-8b66-50e602caaac5",
   "metadata": {},
   "source": [
    "### Q5. Write a python program to filter the numbers in a given list that are divisible by 2 and 3 using the filter function. [2, 3, 6, 9, 27, 60, 90, 120, 55, 46]"
   ]
  },
  {
   "cell_type": "code",
   "execution_count": null,
   "id": "ec76478f-da8f-4d19-bcae-8f2f4eecd41a",
   "metadata": {},
   "outputs": [],
   "source": [
    "l4=[2, 3, 6, 9, 27, 60, 90, 120, 55, 46]\n",
    "list(filter(lambda x:x%2==0,l4))"
   ]
  },
  {
   "cell_type": "markdown",
   "id": "e78d9c99-9cfe-41c0-a4f6-75c3f2f03b01",
   "metadata": {},
   "source": [
    "### Q6. Write a python program to find palindromes in the given list of strings using lambda and filter function. ['python', 'php', 'aba', 'radar', 'level']"
   ]
  },
  {
   "cell_type": "code",
   "execution_count": null,
   "id": "af510567-07ae-42ed-8727-23a5cd44ccfe",
   "metadata": {},
   "outputs": [],
   "source": [
    "l5 = ['python', 'php', 'aba', 'radar', 'level']\n",
    "print(\"Orginal list of strings:\",l5) \n",
    "result = list(filter(lambda x: (x == \"\".join(reversed(x))),l5)) \n",
    "print(\"\\nList of palindromes:\",result) "
   ]
  }
 ],
 "metadata": {
  "kernelspec": {
   "display_name": "Python 3 (ipykernel)",
   "language": "python",
   "name": "python3"
  },
  "language_info": {
   "codemirror_mode": {
    "name": "ipython",
    "version": 3
   },
   "file_extension": ".py",
   "mimetype": "text/x-python",
   "name": "python",
   "nbconvert_exporter": "python",
   "pygments_lexer": "ipython3",
   "version": "3.10.8"
  }
 },
 "nbformat": 4,
 "nbformat_minor": 5
}

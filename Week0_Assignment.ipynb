{
 "cells": [
  {
   "cell_type": "code",
   "execution_count": 1,
   "id": "43971a12-6f25-45e4-8f0b-67c0b29d2fc2",
   "metadata": {},
   "outputs": [],
   "source": [
    "\"\"\"Q1. Create one variable containing following type of data:\n",
    "(i) string\"\"\"\n",
    "a = \"xyz\""
   ]
  },
  {
   "cell_type": "code",
   "execution_count": 2,
   "id": "e87545d6-5ca1-4397-b1e0-5fba9be46c84",
   "metadata": {},
   "outputs": [],
   "source": [
    "#(ii) list\n",
    "b = [123, 456, \"abc\"]"
   ]
  },
  {
   "cell_type": "code",
   "execution_count": 4,
   "id": "362b46f3-a92e-41f3-8a84-76cd13b13219",
   "metadata": {},
   "outputs": [],
   "source": [
    "#(iii) float\n",
    "c = 14.18"
   ]
  },
  {
   "cell_type": "code",
   "execution_count": null,
   "id": "052feece-24c5-4507-bcbe-1cb3eea41ffb",
   "metadata": {},
   "outputs": [],
   "source": [
    "#(iv) tuple\n",
    "d = (True, False, 1.42)"
   ]
  },
  {
   "cell_type": "code",
   "execution_count": null,
   "id": "5ac7f4ce-a851-478c-add2-e503e234921f",
   "metadata": {},
   "outputs": [],
   "source": [
    "\"\"\"Q2. Given are some following variables containing data:\"\"\"\n",
    "#(i)\n",
    "var1 = ' '\n",
    "type(var1)"
   ]
  },
  {
   "cell_type": "code",
   "execution_count": null,
   "id": "6b77d9c6-f5d7-4c16-a45c-7aa98efc3e00",
   "metadata": {},
   "outputs": [],
   "source": [
    "#(ii)\n",
    "var2 = '[ DS , ML , Python]'\n",
    "type(var2)"
   ]
  },
  {
   "cell_type": "code",
   "execution_count": null,
   "id": "a2f50976-e062-42bd-9b62-d73ab0319341",
   "metadata": {},
   "outputs": [],
   "source": [
    "#iii \n",
    "var3 = [ 'DS' , 'ML' , 'Python' ]\n",
    "type(var3)"
   ]
  },
  {
   "cell_type": "code",
   "execution_count": null,
   "id": "2150fa68-f22c-48b0-9dba-0a2a68421a8b",
   "metadata": {},
   "outputs": [],
   "source": [
    "#iv\n",
    "var4 = 1\n",
    "type(var4)"
   ]
  },
  {
   "cell_type": "markdown",
   "id": "512312a6-478f-41dc-89c7-0e45088b1681",
   "metadata": {},
   "source": [
    "Q3. Explain the use of the following operators using an example:\n",
    "(i) / - Division(float) operator. Provides answer in floating quotient form. \n",
    "(ii) % - Remainder operator. Provides the remainder when two operands are divided.\n",
    "(iii) // - Division(floor)operator. Provides quotient in the nearest smaller number.\n",
    "(iv) ** - Power operator. Raises the first operand to the power of second operand."
   ]
  },
  {
   "cell_type": "code",
   "execution_count": 10,
   "id": "3bbf4925-4f38-4a7c-b22e-64bbf0a58850",
   "metadata": {},
   "outputs": [
    {
     "name": "stdout",
     "output_type": "stream",
     "text": [
      "10 <class 'str'>\n",
      "abc <class 'str'>\n",
      "14.1 <class 'str'>\n",
      "(7+6j) <class 'str'>\n",
      "xyz <class 'str'>\n",
      "123 <class 'str'>\n",
      "456 <class 'str'>\n",
      "24.08 <class 'str'>\n",
      "(8+9j) <class 'str'>\n",
      "qwe <class 'str'>\n"
     ]
    }
   ],
   "source": [
    "\"\"\"Q4. Create a list of length 10 of your choice containing multiple types of data. Using for loop print the\n",
    "element and its data type.\"\"\"\n",
    "l = [10 , 'abc', 14.1, 7+6j, 'xyz', 123, 456, 24.08, 8+9j, 'qwe']\n",
    "for a1 in l :\n",
    "    print (a1, type(a))"
   ]
  },
  {
   "cell_type": "code",
   "execution_count": 12,
   "id": "61301758-3879-4e24-b8d5-102c89d97e6f",
   "metadata": {},
   "outputs": [
    {
     "name": "stdin",
     "output_type": "stream",
     "text": [
      "Enter value for A -  17\n",
      "Enter value for B -  2\n"
     ]
    },
    {
     "name": "stdout",
     "output_type": "stream",
     "text": [
      "A is not divisible by B\n"
     ]
    }
   ],
   "source": [
    "\"\"\"Q5. Using a while loop, verify if the number A is purely divisible by number B and if so then how many\n",
    "times it can be divisible.\"\"\"\n",
    "A = int(input (\"Enter value for A - \"))\n",
    "B = int(input (\"Enter value for B - \"))\n",
    "C = 0\n",
    "while A % B == 0 :\n",
    "    A = A/B\n",
    "    C +=1\n",
    "if C > 0 :\n",
    "    print(\"A is divisible by B\", C ,\"Times\")\n",
    "else :\n",
    "    print(\"A is not divisible by B\")"
   ]
  },
  {
   "cell_type": "code",
   "execution_count": null,
   "id": "7b9fe260-074e-43e3-ae8c-2a8a9ba5be8c",
   "metadata": {},
   "outputs": [],
   "source": [
    "\"\"\"Q6. Create a list containing 25 int type data. Using for loop and if-else condition print if the element is\n",
    "divisible by 3 or not.\"\"\"\n",
    "list1 = list(range(1, 26))\n",
    "for z in list1 :\n",
    "    if z%3 == 0 :\n",
    "        print(z,\"is divisible by 3\")\n",
    "    else : \n",
    "        print(z,\"is not divisible by 3\")"
   ]
  },
  {
   "cell_type": "markdown",
   "id": "4a6e7fd5-06d4-4237-bf29-cae005595c88",
   "metadata": {},
   "source": [
    "Q7. What do you understand about mutable and immutable data types? Give examples for both showing\n",
    "this property.\n",
    "Ans. Mutable data types allow you to change it's values on the other hand immutable data types do not allow you to change their values."
   ]
  },
  {
   "cell_type": "code",
   "execution_count": 3,
   "id": "d31b7088-6b79-47f6-944d-5b4d34ea9ecb",
   "metadata": {},
   "outputs": [
    {
     "name": "stdout",
     "output_type": "stream",
     "text": [
      "['abc', 'utkarsh', 123]\n",
      "[123, 'utkarsh', 123]\n"
     ]
    }
   ],
   "source": [
    "#Eg. of Mutable object - \n",
    "l = [\"abc\" , \"utkarsh\" , 123] \n",
    "print (l)\n",
    "l[0] = 123\n",
    "print (l)"
   ]
  },
  {
   "cell_type": "code",
   "execution_count": 4,
   "id": "7c1ceaa2-cb81-408d-af77-5443bfd4bcf5",
   "metadata": {},
   "outputs": [
    {
     "name": "stdout",
     "output_type": "stream",
     "text": [
      "utkarsh\n"
     ]
    },
    {
     "ename": "TypeError",
     "evalue": "'str' object does not support item assignment",
     "output_type": "error",
     "traceback": [
      "\u001b[0;31m---------------------------------------------------------------------------\u001b[0m",
      "\u001b[0;31mTypeError\u001b[0m                                 Traceback (most recent call last)",
      "Cell \u001b[0;32mIn[4], line 4\u001b[0m\n\u001b[1;32m      2\u001b[0m u \u001b[38;5;241m=\u001b[39m \u001b[38;5;124m'\u001b[39m\u001b[38;5;124mutkarsh\u001b[39m\u001b[38;5;124m'\u001b[39m\n\u001b[1;32m      3\u001b[0m \u001b[38;5;28mprint\u001b[39m(u)\n\u001b[0;32m----> 4\u001b[0m \u001b[43mu\u001b[49m\u001b[43m[\u001b[49m\u001b[38;5;241;43m0\u001b[39;49m\u001b[43m]\u001b[49m \u001b[38;5;241m=\u001b[39m \u001b[38;5;124m'\u001b[39m\u001b[38;5;124mr\u001b[39m\u001b[38;5;124m'\u001b[39m\n\u001b[1;32m      5\u001b[0m \u001b[38;5;28mprint\u001b[39m(u)\n",
      "\u001b[0;31mTypeError\u001b[0m: 'str' object does not support item assignment"
     ]
    }
   ],
   "source": [
    "#Eg. of Immutable object - \n",
    "u = 'utkarsh'\n",
    "print(u)\n",
    "u[0] = 'r'\n",
    "print(u)"
   ]
  }
 ],
 "metadata": {
  "kernelspec": {
   "display_name": "Python 3 (ipykernel)",
   "language": "python",
   "name": "python3"
  },
  "language_info": {
   "codemirror_mode": {
    "name": "ipython",
    "version": 3
   },
   "file_extension": ".py",
   "mimetype": "text/x-python",
   "name": "python",
   "nbconvert_exporter": "python",
   "pygments_lexer": "ipython3",
   "version": "3.10.8"
  }
 },
 "nbformat": 4,
 "nbformat_minor": 5
}

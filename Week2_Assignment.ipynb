{
 "cells": [
  {
   "cell_type": "markdown",
   "id": "43576907-e78d-4b43-ae32-dc1483adb506",
   "metadata": {},
   "source": [
    "### Q1. How do you comment code in Python? What are the different types of comments?"
   ]
  },
  {
   "cell_type": "code",
   "execution_count": null,
   "id": "3d825daa-d748-4e7a-85e6-9a43e7ec1d05",
   "metadata": {},
   "outputs": [],
   "source": [
    "#Ans. There are two types of comments in Python.\n",
    "#1. Single line comment which is used with '#'. For eg. #This is a single line comment.\n",
    "#2. Multi line comment which is used with triple quotations. For eg. \n",
    "\"\"\"This is an example of \n",
    "Multiline comments.\"\"\"\n",
    "print(\"Hello\")"
   ]
  },
  {
   "cell_type": "markdown",
   "id": "fd8c3230-a39a-4319-8f70-b327da46574a",
   "metadata": {},
   "source": [
    "### Q2. What are variables in Python? How do you declare and assign values to variables?"
   ]
  },
  {
   "cell_type": "code",
   "execution_count": null,
   "id": "7e134460-b443-4d7f-8b4e-dd06c9654f7a",
   "metadata": {},
   "outputs": [],
   "source": [
    "# Ans. A variable is a pointer to an object. It is a name given to a memory location. \n",
    "a= 12\n",
    "b=\"Hello\"\n",
    "c=int(input())"
   ]
  },
  {
   "cell_type": "markdown",
   "id": "7ac5cd62-79d7-4442-9107-692647aa1010",
   "metadata": {},
   "source": [
    "### Q3. How do you convert one data type to another in Python?"
   ]
  },
  {
   "cell_type": "code",
   "execution_count": null,
   "id": "07d1ed76-fe34-4b69-8474-b47e83aab623",
   "metadata": {},
   "outputs": [],
   "source": [
    "#Data type can be converted automatically by the python or by the user manually.\n",
    "#Eg. of automatic data type conversion\n",
    "a=4.0\n",
    "print(type(a))\n",
    "#Eg. of Manual data type conversion\n",
    "b=str(a)\n",
    "print(type(b))"
   ]
  },
  {
   "cell_type": "markdown",
   "id": "f2e84e2d-6b2e-41c2-adc1-fe2454079e9a",
   "metadata": {},
   "source": [
    "### Q4. How do you write and execute a Python script from the command line?"
   ]
  },
  {
   "cell_type": "raw",
   "id": "482eed3d-c901-4c23-a35a-5fb839ede278",
   "metadata": {},
   "source": [
    "Ans.\n",
    "1. Verify your terminal or command prompt can run Python\n",
    "2. Create a Python script that is error-free\n",
    "3. Use python your/file/n.py to run your script from the terminal"
   ]
  },
  {
   "cell_type": "markdown",
   "id": "40a4dac1-d9a2-468a-9a88-328df2df34e4",
   "metadata": {},
   "source": [
    "### Q5. Given a list my_list = [1, 2, 3, 4, 5], write the code to slice the list and obtain the sub-list [2, 3]."
   ]
  },
  {
   "cell_type": "code",
   "execution_count": null,
   "id": "019f98e3-7ee7-4fe6-9f91-c25854728772",
   "metadata": {},
   "outputs": [],
   "source": [
    "my_list=[1,2,3,4,5]\n",
    "print(my_list[1:3])"
   ]
  },
  {
   "cell_type": "markdown",
   "id": "739567bb-5804-4858-87b1-8755f03f9eea",
   "metadata": {},
   "source": [
    "### Q6. What is a complex number in mathematics, and how is it represented in Python?"
   ]
  },
  {
   "cell_type": "code",
   "execution_count": null,
   "id": "4aba9c53-b855-4504-8159-f9b978d56a28",
   "metadata": {},
   "outputs": [],
   "source": [
    "#Ans. A complex number is the sum of a real number and an imaginary number. In Python it is represented as:\n",
    "complex_num=2+4j"
   ]
  },
  {
   "cell_type": "markdown",
   "id": "7532bfc5-4800-435b-a315-2d69f38a773a",
   "metadata": {},
   "source": [
    "### Q7. What is the correct way to declare a variable named age and assign the value 25 to it?"
   ]
  },
  {
   "cell_type": "code",
   "execution_count": null,
   "id": "c7cd514d-b401-42e7-826c-7e06160f6e63",
   "metadata": {},
   "outputs": [],
   "source": [
    "#A variable name should not start with a number or the name should not be a function in python.\n",
    "#A variable name should be given in such a way that the user understands it's functionability.\n",
    "#To assign a value to the variable we always use single equals to sign.\n",
    "age=25"
   ]
  },
  {
   "cell_type": "markdown",
   "id": "00660632-3854-4d46-9e40-81059acea32f",
   "metadata": {},
   "source": [
    "### Q8. Declare a variable named price and assign the value 9.99 to it. What data type does this variable belong to?"
   ]
  },
  {
   "cell_type": "code",
   "execution_count": null,
   "id": "14a82597-95c0-4011-b1b9-dd0e26e7a0d5",
   "metadata": {},
   "outputs": [],
   "source": [
    "price=9.99\n",
    "type(price)\n",
    "#It is a float type variable"
   ]
  },
  {
   "cell_type": "markdown",
   "id": "c99da718-640a-44fd-9e3b-ebe570f51f86",
   "metadata": {},
   "source": [
    "### Q9. Create a variable named name and assign your full name to it as a string. How would you print the value of this variable?"
   ]
  },
  {
   "cell_type": "code",
   "execution_count": null,
   "id": "821c9c27-e8ce-4dfa-80e4-1fe44dec2496",
   "metadata": {},
   "outputs": [],
   "source": [
    "name = \"Utkarsh Uppal\"\n",
    "#There are three ways to print name variable\n",
    "print(\"My name is\",name)\n",
    "print(\"My name is {}\".format(name))\n",
    "print(f\"My name is {name}\")"
   ]
  },
  {
   "cell_type": "markdown",
   "id": "23390403-02d4-485d-8236-ead82a307747",
   "metadata": {},
   "source": [
    "### Q10. Given the string \"Hello, World!\", extract the substring \"World\"."
   ]
  },
  {
   "cell_type": "code",
   "execution_count": null,
   "id": "165bfd97-2a75-4f2b-a75a-22a8fd0f2c14",
   "metadata": {},
   "outputs": [],
   "source": [
    "new_string=\"Hello World\"\n",
    "new_string[6:]"
   ]
  },
  {
   "cell_type": "markdown",
   "id": "cfb11dbf-2eb2-47cd-908f-09ed935cf9e2",
   "metadata": {},
   "source": [
    "### Q11. Create a variable named \"is_student\" and assign it a boolean value indicating whether you are currently a student or not."
   ]
  },
  {
   "cell_type": "code",
   "execution_count": null,
   "id": "86ca4073-9a37-4ac9-9679-d0a4e2fa1b1a",
   "metadata": {},
   "outputs": [],
   "source": [
    "is_student=bool(1)\n",
    "print(is_student)"
   ]
  }
 ],
 "metadata": {
  "kernelspec": {
   "display_name": "Python 3 (ipykernel)",
   "language": "python",
   "name": "python3"
  },
  "language_info": {
   "codemirror_mode": {
    "name": "ipython",
    "version": 3
   },
   "file_extension": ".py",
   "mimetype": "text/x-python",
   "name": "python",
   "nbconvert_exporter": "python",
   "pygments_lexer": "ipython3",
   "version": "3.10.8"
  }
 },
 "nbformat": 4,
 "nbformat_minor": 5
}

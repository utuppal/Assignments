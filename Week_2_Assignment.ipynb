{
 "cells": [
  {
   "cell_type": "markdown",
   "id": "a438be9d-8626-408f-96b4-08accfc07e0e",
   "metadata": {
    "tags": []
   },
   "source": [
    "### Q1. Which keyword is used to create a function? Create a function to return a list of odd numbers in the range of 1 to 25."
   ]
  },
  {
   "cell_type": "code",
   "execution_count": null,
   "id": "0c448a04-6237-4c79-bc40-9028c2b7f998",
   "metadata": {},
   "outputs": [],
   "source": [
    "#Ans. Def keyword is used to create a function.\n",
    "#a function to return a list of odd numbers in the range of 1 to 25. \n",
    "odd_num=list(filter(lambda x: x%2!=0,range(1,25)))"
   ]
  },
  {
   "cell_type": "markdown",
   "id": "b8059c62-b89e-49f8-8463-9e854176146e",
   "metadata": {},
   "source": [
    "### Q2. Why *args and **kwargs is used in some functions? Create a function each for *args and **kwargs to demonstrate their use."
   ]
  },
  {
   "cell_type": "code",
   "execution_count": null,
   "id": "38b7c05e-6499-422f-8b74-6c604e292944",
   "metadata": {},
   "outputs": [],
   "source": [
    "#Ans. *args is used to take n number of arguments as input and **kwargs is used to take n number of keys and values in a function.\n",
    "#Example of *args\n",
    "def t1(*args):\n",
    "    l1=[]\n",
    "    for i in args:\n",
    "        l1.append(i**2)\n",
    "    return (l1)\n",
    "#Example of **kwargs\n",
    "def t2(**kwargs):\n",
    "    return kwargs"
   ]
  },
  {
   "cell_type": "markdown",
   "id": "3a205cac-cbc5-48a2-8014-485cca284eb6",
   "metadata": {},
   "source": [
    "### Q3. What is an iterator in python? Name the method used to initialise the iterator object and the method used for iteration. Use these methods to print the first five elements of the given list [2, 4, 6, 8, 10, 12, 14, 16, 18, 20]."
   ]
  },
  {
   "cell_type": "code",
   "execution_count": null,
   "id": "cac5172a-92dc-4b73-83a7-833fa7595303",
   "metadata": {},
   "outputs": [],
   "source": [
    "#Iterator is an object that is used to iterate over iterable objects like lists, tuples, dicts and sets.\n",
    "#Iter() method is used to initialize the iterator object.\n",
    "#For loop is used for automatic iteration\n",
    "my_list=[2, 4, 6, 8, 10, 12, 14, 16,18, 20]\n",
    "n=5\n",
    "for i in range(n):\n",
    "    print(my_list[i])"
   ]
  },
  {
   "cell_type": "markdown",
   "id": "3a8f0541-b5f5-472b-92da-12b3b757edd7",
   "metadata": {},
   "source": [
    "### Q4. What is a generator function in python? Why yield keyword is used? Give an example of a generator function."
   ]
  },
  {
   "cell_type": "code",
   "execution_count": null,
   "id": "018fb64e-60b7-4b04-b696-3c00a8ce2adb",
   "metadata": {},
   "outputs": [],
   "source": [
    "#Generator function-Generator functions allow you to declare a function that behaves like an iterator.\n",
    "#Yield keyword-The yield keyword converts the expression given into a generator function that gives back a generator object. \n",
    "#To get the values of the object, it has to be iterated to read the values given to the yield.\n",
    "def even_numbers(n):\n",
    "    for x in range(n+1):\n",
    "        if (x%2==0): \n",
    "           yield x       \n",
    "num = even_numbers(10)\n",
    "print(list(num))"
   ]
  },
  {
   "cell_type": "markdown",
   "id": "de593fdf-9efd-4fb7-858c-5935ec6da69e",
   "metadata": {},
   "source": [
    "### Q5. Create a generator function for prime numbers less than 1000. Use the next() method to print the first 20 prime numbers."
   ]
  },
  {
   "cell_type": "code",
   "execution_count": null,
   "id": "420dccc6-a288-4502-80e8-5a291acf7cb7",
   "metadata": {},
   "outputs": [],
   "source": [
    "def isprime():\n",
    "    l1 = []\n",
    "    num = 2\n",
    "    while num < 1000:\n",
    "        flag = True\n",
    "        for i in l1:\n",
    "            if num % i == 0:\n",
    "                flag = False\n",
    "                break\n",
    "        if flag:\n",
    "            l1.append(num)\n",
    "            yield num\n",
    "        num += 1\n",
    "prime_gen = isprime()\n",
    "for j in range(20):\n",
    "    print(next(prime_gen),end=\" \")"
   ]
  }
 ],
 "metadata": {
  "kernelspec": {
   "display_name": "Python 3 (ipykernel)",
   "language": "python",
   "name": "python3"
  },
  "language_info": {
   "codemirror_mode": {
    "name": "ipython",
    "version": 3
   },
   "file_extension": ".py",
   "mimetype": "text/x-python",
   "name": "python",
   "nbconvert_exporter": "python",
   "pygments_lexer": "ipython3",
   "version": "3.10.8"
  }
 },
 "nbformat": 4,
 "nbformat_minor": 5
}
